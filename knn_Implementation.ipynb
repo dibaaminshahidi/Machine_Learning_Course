{
 "cells": [
  {
   "cell_type": "code",
   "execution_count": 1,
   "metadata": {},
   "outputs": [],
   "source": [
    "import numpy as np\n",
    "import pandas as pd\n",
    "from PIL import Image\n",
    "from matplotlib import pyplot as plt\n",
    "import random\n",
    "from math import isqrt\n",
    "from scipy.spatial.distance import cityblock\n",
    "from heapq import heappop, heappush, heapify"
   ]
  },
  {
   "cell_type": "code",
   "execution_count": 2,
   "metadata": {},
   "outputs": [],
   "source": [
    "def not_sames(a,b,n):\n",
    "    result = 0\n",
    "    inds = []\n",
    "    for i in range (n):\n",
    "        if a[i] != b[i]:\n",
    "            result = result + 1\n",
    "            inds.append(i)\n",
    "    return result , inds"
   ]
  },
  {
   "cell_type": "code",
   "execution_count": 3,
   "metadata": {},
   "outputs": [],
   "source": [
    "df = pd.read_csv(\"uspsdata.txt\", sep=\"\t\",header=None)\n",
    "y = pd.read_csv(\"uspscl.txt\", sep=\"\\n\",header=None).to_numpy()"
   ]
  },
  {
   "cell_type": "code",
   "execution_count": 4,
   "metadata": {},
   "outputs": [
    {
     "data": {
      "image/png": "[encoded data removed]",
      "text/plain": [
       "<Figure size 720x504 with 4 Axes>"
      ]
     },
     "metadata": {
      "needs_background": "light"
     },
     "output_type": "display_data"
    }
   ],
   "source": [
    "fig = plt.figure(figsize=(10, 7))\n",
    "x = df.to_numpy().reshape(200,16,16)\n",
    "\n",
    "for i in range(0,4):\n",
    "    fig.add_subplot(2, 2, i+1)\n",
    "    plt.imshow(x[i])\n",
    "#     Image.fromarray(np.uint8(x[i])).show()\n",
    "    plt.axis('off')"
   ]
  },
  {
   "cell_type": "code",
   "execution_count": 5,
   "metadata": {},
   "outputs": [],
   "source": [
    "n = df.shape[0]\n",
    "n_test = n//5\n",
    "n_train = n - n_test"
   ]
  },
  {
   "cell_type": "code",
   "execution_count": 14,
   "metadata": {},
   "outputs": [],
   "source": [
    "test_indx = random.sample(range(n), n_test)"
   ]
  },
  {
   "cell_type": "code",
   "execution_count": 15,
   "metadata": {},
   "outputs": [],
   "source": [
    "x_train_raw = df.drop(test_indx).to_numpy().reshape(n_train,16,16)\n",
    "y_train = np.delete(y, test_indx).reshape(n_train)\n",
    "x_test_raw = df.iloc[test_indx,:].to_numpy().reshape(n_test,16,16)\n",
    "y_test = y[test_indx].reshape(n_test)"
   ]
  },
  {
   "cell_type": "code",
   "execution_count": null,
   "metadata": {},
   "outputs": [
    {
     "data": {
      "text/plain": [
       "(160, 16, 16)"
      ]
     },
     "execution_count": 64,
     "metadata": {},
     "output_type": "execute_result"
    }
   ],
   "source": [
    "x_train_raw.shape"
   ]
  },
  {
   "cell_type": "code",
   "execution_count": 16,
   "metadata": {},
   "outputs": [],
   "source": [
    "x_temp = []\n",
    "for t in x_train_raw:\n",
    "    temp = Image.fromarray(np.uint8(t))\n",
    "    x_temp.append(np.asarray(temp))\n",
    "x_train = np.array(x_temp).reshape(n_train,256)\n",
    "x_temp = []\n",
    "for t in x_test_raw:\n",
    "#     temp = Image.fromarray(np.uint8(t))\n",
    "    x_temp.append(np.asarray(Image.fromarray(np.uint8(t))))\n",
    "x_test = np.array(x_temp).reshape((n_test,256))"
   ]
  },
  {
   "cell_type": "code",
   "execution_count": 17,
   "metadata": {},
   "outputs": [
    {
     "name": "stdout",
     "output_type": "stream",
     "text": [
      "(160, 256) (160,) (40, 256) (40,)\n"
     ]
    }
   ],
   "source": [
    "print(x_train.shape,y_train.shape,x_test.shape,y_test.shape)"
   ]
  },
  {
   "cell_type": "code",
   "execution_count": 19,
   "metadata": {},
   "outputs": [
    {
     "name": "stdout",
     "output_type": "stream",
     "text": [
      "Accuracy for k = 3 : 0.85!\n",
      "Error Rate for k = 3 : 0.15!\n",
      "Accuracy for k = 5 : 0.8!\n",
      "Error Rate for k = 5 : 0.2!\n",
      "Accuracy for k = 7 : 0.75!\n",
      "Error Rate for k = 7 : 0.25!\n",
      "Accuracy for k = 9 : 0.725!\n",
      "Error Rate for k = 9 : 0.275!\n",
      "Accuracy for k = 11 : 0.7!\n",
      "Error Rate for k = 11 : 0.3!\n",
      "Accuracy for k = 13 : 0.725!\n",
      "Error Rate for k = 13 : 0.275!\n",
      "Accuracy for k = 1 : 0.9!\n",
      "Error Rate for k = 1 : 0.1!\n"
     ]
    }
   ],
   "source": [
    "k_list = [3,5,7,9,11,13,1]\n",
    "# dist = []\n",
    "for k in k_list:\n",
    "    y_hat = []\n",
    "    for t in x_test:\n",
    "        dist = []\n",
    "        to_be_voted = []\n",
    "        for c in x_train:\n",
    "            temp = t - c\n",
    "#             dist.append(np.dot(temp.T, temp))\n",
    "            dist.append(cityblock(t, c))\n",
    "            sort = sorted(dist, key = lambda x:float(x), reverse = True)\n",
    "    #         values.append(sort.index(sort[-5:]))\n",
    "    #         to_be_voted = y_train[values]\n",
    "    #         to_be_voted.append(y_train[values.index(min(dist))])\n",
    "    #         y_hat_to_be_voted.append() \n",
    "\n",
    "        for i in range (k):\n",
    "    #         print(dist.index(min(dist)))\n",
    "            to_be_voted.append(y_train[dist.index(min(dist))])\n",
    "    #         print(to_be_voted)\n",
    "            dist.remove(min(dist))\n",
    "        if sum(to_be_voted) >= 0:\n",
    "            y_hat.append(1)\n",
    "        else:\n",
    "            y_hat.append(-1)\n",
    "    y_hat = np.array(y_hat).reshape(n_test)\n",
    "#     accuracy = 1-(not_sames(y_hat,y_test,n_test)[0]/n_test)\n",
    "#     print(f\"Accuracy for k = {k} : {accuracy}!\")\n",
    "    print(f\"Accuracy for k = {k} : {1-(not_sames(y_hat,y_test,n_test)[0]/n_test)}!\")\n",
    "    print(f\"Error Rate for k = {k} : {not_sames(y_hat,y_test,n_test)[0]/n_test}!\")\n",
    "\n"
   ]
  },
  {
   "cell_type": "code",
   "execution_count": 12,
   "metadata": {},
   "outputs": [
    {
     "name": "stdout",
     "output_type": "stream",
     "text": [
      "[-1 -1 -1 -1  1  1  1 -1  1  1  1  1  1  1  1  1  1 -1  1  1  1 -1 -1 -1\n",
      "  1  1 -1 -1  1  1  1  1  1 -1  1  1  1 -1  1  1]\n",
      "[-1 -1 -1 -1 -1  1  1 -1  1  1  1  1  1  1  1  1  1 -1  1  1  1 -1 -1 -1\n",
      "  1 -1 -1 -1  1  1 -1  1 -1 -1  1  1  1 -1  1  1]\n",
      "(4, [4, 25, 30, 32])\n"
     ]
    }
   ],
   "source": [
    "print(y_hat)\n",
    "print(y_test)\n",
    "print(not_sames(y_hat,y_test,n_test))"
   ]
  },
  {
   "cell_type": "code",
   "execution_count": 13,
   "metadata": {},
   "outputs": [
    {
     "data": {
      "image/png": "[encoded data removed]",
      "text/plain": [
       "<Figure size 720x504 with 4 Axes>"
      ]
     },
     "metadata": {
      "needs_background": "light"
     },
     "output_type": "display_data"
    }
   ],
   "source": [
    "misclassified = []\n",
    "for i in (not_sames(y_hat,y_test,n_test)[1]):   \n",
    "    misclassified.append(Image.fromarray(np.uint8(x_test[i]).reshape(16,16)))\n",
    "fig = plt.figure(figsize=(10, 7))\n",
    "\n",
    "for i in range(0,len(misclassified)):\n",
    "    fig.add_subplot(isqrt(len(misclassified)), isqrt(len(misclassified)), i+1)\n",
    "    plt.imshow(misclassified[i])\n",
    "    plt.axis('off')"
   ]
  },
  {
   "cell_type": "code",
   "execution_count": 147,
   "metadata": {},
   "outputs": [],
   "source": [
    "def nn_k(x_train,x_test,y_train,y_test,k):\n",
    "    heap = []\n",
    "    heapify(heap)\n",
    "    y_hat = []\n",
    "\n",
    "    for t in x_test:\n",
    "        for i in range(k):\n",
    "            y_hat_k = []\n",
    "            for i in range(k):\n",
    "                heappush(heap, [(-1 * cityblock(t, x_train[i])),y_train[i]])\n",
    "\n",
    "            for c in range(k,n_train):\n",
    "                if ( -1 * cityblock(t, x_train[c]) > heap[0][0]):\n",
    "                    heappop(heap)\n",
    "                    heappush(heap,[-1 * cityblock(t,  x_train[c]),y_train[c]])\n",
    "    #         print(heap)\n",
    "    #         to_be_voted = heappop(heap)[0:3][1]\n",
    "    #         print(to_be_voted)\n",
    "            to_be_voted = []\n",
    "            for j in range (k):\n",
    "                to_be_voted.append(heappop(heap)[1])\n",
    "    #         print(to_be_voted)\n",
    "\n",
    "            if sum(to_be_voted) >= 0:\n",
    "                y_hat_k.append((1))\n",
    "            else:\n",
    "                y_hat_k.append((-1))\n",
    "        y_hat.append(y_hat_k)\n",
    "    y_hat = np.array(y_hat).reshape(n_test)\n",
    "    print(f\"Accuracy for k = {k} : {1-(not_sames(y_hat,y_test,n_test)[0]/n_test)}!\")\n",
    "    print(f\"Error Rate for k = {k} : {not_sames(y_hat,y_test,n_test)[0]/n_test}!\")\n",
    "\n",
    "\n",
    "\n"
   ]
  },
  {
   "cell_type": "code",
   "execution_count": 150,
   "metadata": {},
   "outputs": [
    {
     "name": "stdout",
     "output_type": "stream",
     "text": [
      "Accuracy for k = 3 : 0.9!\n",
      "Error Rate for k = 3 : 0.1!\n",
      "Accuracy for k = 5 : 0.825!\n",
      "Error Rate for k = 5 : 0.175!\n",
      "Accuracy for k = 7 : 0.85!\n",
      "Error Rate for k = 7 : 0.15!\n",
      "Accuracy for k = 9 : 0.85!\n",
      "Error Rate for k = 9 : 0.15!\n",
      "Accuracy for k = 11 : 0.85!\n",
      "Error Rate for k = 11 : 0.15!\n",
      "Accuracy for k = 13 : 0.825!\n",
      "Error Rate for k = 13 : 0.175!\n",
      "Accuracy for k = 1 : 0.9!\n",
      "Error Rate for k = 1 : 0.1!\n"
     ]
    }
   ],
   "source": [
    "for k in k_list:\n",
    "     nn_k(x_train,x_test,y_train,y_test,k)"
   ]
  }
 ],
 "metadata": {
  "kernelspec": {
   "display_name": "Python 3",
   "language": "python",
   "name": "python3"
  },
  "language_info": {
   "codemirror_mode": {
    "name": "ipython",
    "version": 3
   },
   "file_extension": ".py",
   "mimetype": "text/x-python",
   "name": "python",
   "nbconvert_exporter": "python",
   "pygments_lexer": "ipython3",
   "version": "3.8.0"
  },
  "vscode": {
   "interpreter": {
    "hash": "082e9a3bcad0a290d0001e938aa60b99250c6c2ef33a923c00b70f9826caf4b7"
   }
  }
 },
 "nbformat": 4,
 "nbformat_minor": 2
}
